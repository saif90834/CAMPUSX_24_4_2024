{
  "nbformat": 4,
  "nbformat_minor": 0,
  "metadata": {
    "colab": {
      "provenance": [],
      "include_colab_link": true
    },
    "kernelspec": {
      "name": "python3",
      "display_name": "Python 3"
    },
    "language_info": {
      "name": "python"
    }
  },
  "cells": [
    {
      "cell_type": "markdown",
      "metadata": {
        "id": "view-in-github",
        "colab_type": "text"
      },
      "source": [
        "<a href=\"https://colab.research.google.com/github/saif90834/CAMPUSX_24_4_2024/blob/main/session_1_tasks.ipynb\" target=\"_parent\"><img src=\"https://colab.research.google.com/assets/colab-badge.svg\" alt=\"Open In Colab\"/></a>"
      ]
    },
    {
      "cell_type": "markdown",
      "source": [
        "# Task : Session 1\n",
        "Solve these questions own your own and try to test yourself what you have learned in the session.\n",
        "\n",
        "Happy Learning!"
      ],
      "metadata": {
        "id": "A05OG15VqOPF"
      }
    },
    {
      "cell_type": "markdown",
      "source": [
        "### Q1 :- Print the given strings as per stated format.\n",
        "\n",
        "**Given strings**:\n",
        "```\n",
        "\"Data\" \"Science\" \"Mentorship\" \"Program\"\n",
        "\"By\" \"CampusX\"\n",
        "```\n",
        "**Output**:\n",
        "```\n",
        "Data-Science-Mentorship-Program-started-By-CampusX\n",
        "```\n",
        "\n",
        "Concept- [Seperator and End]"
      ],
      "metadata": {
        "id": "2doIXf8bqe9_"
      }
    },
    {
      "cell_type": "code",
      "source": [
        "# Write your code here\n",
        "print(\"Data\", \"Science\", \"Mentorship\", \"Program\",sep='-',end='-started-' )\n",
        "print(\"By\" \"CampusX\",sep='-')"
      ],
      "metadata": {
        "id": "-em6d3KErDtp",
        "outputId": "79a49f4e-339f-4fba-bbd6-e4340e471eb2",
        "colab": {
          "base_uri": "https://localhost:8080/"
        }
      },
      "execution_count": 1,
      "outputs": [
        {
          "output_type": "stream",
          "name": "stdout",
          "text": [
            "Data-Science-Mentorship-Program-started-ByCampusX\n"
          ]
        }
      ]
    },
    {
      "cell_type": "markdown",
      "source": [
        "### Q2:- Write a program that will convert celsius value to fahrenheit."
      ],
      "metadata": {
        "id": "1KUpN7ZTrC3_"
      }
    },
    {
      "cell_type": "code",
      "source": [
        "# Write your code here\n",
        "c=int(input(\"c  \"))\n",
        "f=c*(9/5)+32\n",
        "print('f', f)"
      ],
      "metadata": {
        "id": "yxKYhYQiqWfj",
        "outputId": "3adf2417-5497-4870-934e-4e02dfc3c23c",
        "colab": {
          "base_uri": "https://localhost:8080/"
        }
      },
      "execution_count": 3,
      "outputs": [
        {
          "output_type": "stream",
          "name": "stdout",
          "text": [
            "c  47\n",
            "f 116.60000000000001\n"
          ]
        }
      ]
    },
    {
      "cell_type": "markdown",
      "source": [
        "### Q3:- Take 2 numbers as input from the user.Write a program to swap the numbers without using any special python syntax."
      ],
      "metadata": {
        "id": "RLrOBBJurLB2"
      }
    },
    {
      "cell_type": "code",
      "source": [
        "# Write your code here\n",
        "x=int(input(\"First Number: \"))\n",
        "y=int(input(\"Second Number: \"))\n",
        "print(x,y)\n",
        "temp=x\n",
        "x=y\n",
        "y=temp\n",
        "print(x,y)"
      ],
      "metadata": {
        "id": "yPn7if0TrJ4F",
        "outputId": "6677b1cb-dde2-42d1-96b1-b5c2d03e6453",
        "colab": {
          "base_uri": "https://localhost:8080/"
        }
      },
      "execution_count": 6,
      "outputs": [
        {
          "output_type": "stream",
          "name": "stdout",
          "text": [
            "First Number: 3\n",
            "Second Number: 2\n",
            "3 2\n",
            "2 3\n"
          ]
        }
      ]
    },
    {
      "cell_type": "markdown",
      "source": [
        "### Q4:- Write a program to find the euclidean distance between two coordinates.Take both the coordinates from the user as input."
      ],
      "metadata": {
        "id": "waLCP1bjr7ML"
      }
    },
    {
      "cell_type": "code",
      "source": [
        "# Write your code here\n",
        "x1=int(input(\"x1:\"))\n",
        "y1=int(input(\"y1:\"))\n",
        "x2=int(input(\"x2:\"))\n",
        "y2=int(input(\"y2:\"))\n",
        "euclidean_distance =((x1-x2)**2+(y1-y2)**2)**1/2\n",
        "print(euclidean_distance)\n"
      ],
      "metadata": {
        "id": "Pl1Sv-xnrxnH",
        "outputId": "28409bd2-281f-4a02-c83f-8d2c62076d05",
        "colab": {
          "base_uri": "https://localhost:8080/"
        }
      },
      "execution_count": 11,
      "outputs": [
        {
          "output_type": "stream",
          "name": "stdout",
          "text": [
            "x1:2\n",
            "y1:2\n",
            "x2:4\n",
            "y2:4\n",
            "4.0\n"
          ]
        }
      ]
    },
    {
      "cell_type": "markdown",
      "source": [
        "### Q5:- Write a program to find the simple interest when the value of principle,rate of interest and time period is provided by the user.\n"
      ],
      "metadata": {
        "id": "VLrhg-FRsHjR"
      }
    },
    {
      "cell_type": "code",
      "source": [
        "# Write your code here\n",
        "p=int(input('principal: '))\n",
        "r=float(input('rate of interest: '))\n",
        "t=int(input(\"time in year: \"))\n",
        "interest=(p*r*t)/100\n",
        "print(interest)\n"
      ],
      "metadata": {
        "id": "s40DlReZsTmY",
        "outputId": "308593d8-353c-4d6c-9e8e-fce3abb72631",
        "colab": {
          "base_uri": "https://localhost:8080/"
        }
      },
      "execution_count": 13,
      "outputs": [
        {
          "output_type": "stream",
          "name": "stdout",
          "text": [
            "principal: 100000\n",
            "rate of interest: 8.5\n",
            "time in year: 5\n",
            "42500.0\n"
          ]
        }
      ]
    },
    {
      "cell_type": "markdown",
      "source": [
        "### Q6:- Write a program that will tell the number of dogs and chicken are there when the user will provide the value of total heads and legs.\n",
        "\n",
        "For example:\n",
        "Input:\n",
        "heads -> 4\n",
        "legs -> 12\n",
        "<br>\n",
        "Output:\n",
        "dogs -> 2\n",
        "chicken -> 2\n",
        "\n",
        "\n",
        "\n"
      ],
      "metadata": {
        "id": "LMy0BTUktYKa"
      }
    },
    {
      "cell_type": "code",
      "source": [
        "# Write your code here\n",
        "H=4\n",
        "L=12\n",
        "#chicken has 2 legs while dog has 4 legs\n",
        "2c+4d=12\n",
        "# dogs has 1 head and chicke has 1 head\n",
        "c+d=4\n",
        "c=4-d\n",
        "2(4-d)+4d =12\n",
        "8-2d+4d=12\n",
        "d=4/2\n",
        "d=2\n",
        "#put d value in eq 1\n",
        "c+d=4\n",
        "c=4-2\n",
        "c\n"
      ],
      "metadata": {
        "id": "XSBvJoA4tXaG"
      },
      "execution_count": null,
      "outputs": []
    },
    {
      "cell_type": "markdown",
      "source": [
        "### Q7:- Write a program to find the sum of squares of first n natural numbers where n will be provided by the user."
      ],
      "metadata": {
        "id": "gJ7C5kZYt4BP"
      }
    },
    {
      "cell_type": "code",
      "source": [
        "# Write your code here\n"
      ],
      "metadata": {
        "id": "_tHsmEHzt2nX"
      },
      "execution_count": null,
      "outputs": []
    },
    {
      "cell_type": "markdown",
      "source": [
        "### Q8:- Given the first 2 terms of an Arithmetic Series.Find the Nth term of the series. Assume all inputs are provided by the user."
      ],
      "metadata": {
        "id": "FHrMM7g-yG1h"
      }
    },
    {
      "cell_type": "code",
      "source": [
        "# Write your code here\n",
        "f_term=int(input((\"enter the first term: \")))\n",
        "s_term=int(input(\"enter the second term: \"))\n",
        "n=int(input(\"enter the value of n \"))\n",
        "d=s_term -f_term\n",
        "a=f_term +(n-1)*d\n",
        "print(a)"
      ],
      "metadata": {
        "id": "go4_kmZmyVSx",
        "outputId": "6a4b0505-bcba-4619-aaa9-2f58ea3ffeb2",
        "colab": {
          "base_uri": "https://localhost:8080/"
        }
      },
      "execution_count": 15,
      "outputs": [
        {
          "output_type": "stream",
          "name": "stdout",
          "text": [
            "enter the first term: 3\n",
            "enter the second term: 6\n",
            "enter the value of n 5\n",
            "15\n"
          ]
        }
      ]
    },
    {
      "cell_type": "markdown",
      "source": [
        "### Q9:- Given 2 fractions, find the sum of those 2 fractions.Take the numerator and denominator values of the fractions from the user."
      ],
      "metadata": {
        "id": "QgyRX_es1oum"
      }
    },
    {
      "cell_type": "code",
      "source": [
        "# Write your code here\n",
        "n1=int(input(\"num 1: \"))\n",
        "n2=int(input(\"num 2: \"))\n",
        "d1=int(input(\"deno 1:\"))\n",
        "d2=int(input(\"deno 2:\"))\n",
        "numerator=n1*d2 + n2*d1\n",
        "denominator=d1*d2\n",
        "print('{}/{}'.format(numerator,denominator))\n",
        "\n"
      ],
      "metadata": {
        "id": "X05xqFS1yW16",
        "outputId": "3a64c430-7d66-4208-9f73-dfb07b3948cb",
        "colab": {
          "base_uri": "https://localhost:8080/"
        }
      },
      "execution_count": 18,
      "outputs": [
        {
          "output_type": "stream",
          "name": "stdout",
          "text": [
            "num 1: 3\n",
            "num 2: 2\n",
            "deno 1:7\n",
            "deno 2:11\n",
            "47/77\n"
          ]
        }
      ]
    },
    {
      "cell_type": "markdown",
      "source": [
        "### Q10:- Given the height, width and breadth of a milk tank, you have to find out how many glasses of milk can be obtained? Assume all the inputs are provided by the user.\n",
        "\n",
        "\n",
        "\n",
        "Input:<br>\n",
        "Dimensions of the milk tank<br>\n",
        "H = 20cm, L = 20cm, B = 20cm\n",
        "<br><br>\n",
        "Dimensions of the glass<br>\n",
        "h = 3cm, r = 1cm"
      ],
      "metadata": {
        "id": "eaql38ln13u7"
      }
    },
    {
      "cell_type": "code",
      "source": [
        "# Write your code here"
      ],
      "metadata": {
        "id": "FePZqno74eWv"
      },
      "execution_count": null,
      "outputs": []
    }
  ]
}